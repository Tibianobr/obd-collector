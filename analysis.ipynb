{
 "cells": [
  {
   "cell_type": "code",
   "execution_count": 14,
   "metadata": {
    "collapsed": true
   },
   "outputs": [],
   "source": [
    "import sqlite3\n",
    "import pandas as pd\n",
    "import matplotlib.pyplot as plt"
   ]
  },
  {
   "cell_type": "code",
   "execution_count": 7,
   "outputs": [],
   "source": [
    "cnx = sqlite3.connect('clean.db')\n",
    "df = pd.read_sql_query(\"SELECT * FROM data\", cnx)"
   ],
   "metadata": {
    "collapsed": false,
    "pycharm": {
     "name": "#%%\n"
    }
   }
  },
  {
   "cell_type": "code",
   "execution_count": 8,
   "outputs": [
    {
     "data": {
      "text/plain": "                      timestamp            key              value\n0    2022-05-17 19:39:00.393925            RPM             910.75\n1    2022-05-17 19:39:05.396180       OIL_TEMP                -22\n2    2022-05-17 19:39:05.523760  FUEL_PRESSURE                 54\n3    2022-05-17 19:39:10.396713   COOLANT_TEMP                 23\n4    2022-05-17 19:39:10.521684            RPM             909.25\n..                          ...            ...                ...\n818  2022-05-17 23:43:40.892380   COOLANT_TEMP                 76\n819  2022-05-17 23:43:42.496643       OIL_TEMP                -22\n820  2022-05-17 23:43:42.735889  FUEL_PRESSURE                 54\n821  2022-05-17 23:43:47.446993            RPM            1026.25\n822  2022-05-17 23:43:47.598426    ENGINE_LOAD  4.313725490196078\n\n[823 rows x 3 columns]",
      "text/html": "<div>\n<style scoped>\n    .dataframe tbody tr th:only-of-type {\n        vertical-align: middle;\n    }\n\n    .dataframe tbody tr th {\n        vertical-align: top;\n    }\n\n    .dataframe thead th {\n        text-align: right;\n    }\n</style>\n<table border=\"1\" class=\"dataframe\">\n  <thead>\n    <tr style=\"text-align: right;\">\n      <th></th>\n      <th>timestamp</th>\n      <th>key</th>\n      <th>value</th>\n    </tr>\n  </thead>\n  <tbody>\n    <tr>\n      <th>0</th>\n      <td>2022-05-17 19:39:00.393925</td>\n      <td>RPM</td>\n      <td>910.75</td>\n    </tr>\n    <tr>\n      <th>1</th>\n      <td>2022-05-17 19:39:05.396180</td>\n      <td>OIL_TEMP</td>\n      <td>-22</td>\n    </tr>\n    <tr>\n      <th>2</th>\n      <td>2022-05-17 19:39:05.523760</td>\n      <td>FUEL_PRESSURE</td>\n      <td>54</td>\n    </tr>\n    <tr>\n      <th>3</th>\n      <td>2022-05-17 19:39:10.396713</td>\n      <td>COOLANT_TEMP</td>\n      <td>23</td>\n    </tr>\n    <tr>\n      <th>4</th>\n      <td>2022-05-17 19:39:10.521684</td>\n      <td>RPM</td>\n      <td>909.25</td>\n    </tr>\n    <tr>\n      <th>...</th>\n      <td>...</td>\n      <td>...</td>\n      <td>...</td>\n    </tr>\n    <tr>\n      <th>818</th>\n      <td>2022-05-17 23:43:40.892380</td>\n      <td>COOLANT_TEMP</td>\n      <td>76</td>\n    </tr>\n    <tr>\n      <th>819</th>\n      <td>2022-05-17 23:43:42.496643</td>\n      <td>OIL_TEMP</td>\n      <td>-22</td>\n    </tr>\n    <tr>\n      <th>820</th>\n      <td>2022-05-17 23:43:42.735889</td>\n      <td>FUEL_PRESSURE</td>\n      <td>54</td>\n    </tr>\n    <tr>\n      <th>821</th>\n      <td>2022-05-17 23:43:47.446993</td>\n      <td>RPM</td>\n      <td>1026.25</td>\n    </tr>\n    <tr>\n      <th>822</th>\n      <td>2022-05-17 23:43:47.598426</td>\n      <td>ENGINE_LOAD</td>\n      <td>4.313725490196078</td>\n    </tr>\n  </tbody>\n</table>\n<p>823 rows × 3 columns</p>\n</div>"
     },
     "execution_count": 8,
     "metadata": {},
     "output_type": "execute_result"
    }
   ],
   "source": [
    "df"
   ],
   "metadata": {
    "collapsed": false,
    "pycharm": {
     "name": "#%%\n"
    }
   }
  },
  {
   "cell_type": "code",
   "execution_count": 9,
   "outputs": [
    {
     "data": {
      "text/plain": "<pandas.core.groupby.generic.DataFrameGroupBy object at 0x7f9cf9125da0>"
     },
     "execution_count": 9,
     "metadata": {},
     "output_type": "execute_result"
    }
   ],
   "source": [
    "vars = df.groupby(df.key)\n",
    "vars"
   ],
   "metadata": {
    "collapsed": false,
    "pycharm": {
     "name": "#%%\n"
    }
   }
  },
  {
   "cell_type": "code",
   "execution_count": 22,
   "outputs": [],
   "source": [
    "for var in vars.groups:\n",
    "    vars.get_group(var).to_csv('data/' + str(var) + '.csv')"
   ],
   "metadata": {
    "collapsed": false,
    "pycharm": {
     "name": "#%%\n"
    }
   }
  }
 ],
 "metadata": {
  "kernelspec": {
   "display_name": "Python 3",
   "language": "python",
   "name": "python3"
  },
  "language_info": {
   "codemirror_mode": {
    "name": "ipython",
    "version": 2
   },
   "file_extension": ".py",
   "mimetype": "text/x-python",
   "name": "python",
   "nbconvert_exporter": "python",
   "pygments_lexer": "ipython2",
   "version": "2.7.6"
  }
 },
 "nbformat": 4,
 "nbformat_minor": 0
}